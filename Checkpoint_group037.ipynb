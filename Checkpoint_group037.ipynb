{
 "cells": [
  {
   "cell_type": "markdown",
   "metadata": {},
   "source": [
    "# COGS 118A- Project Checkpoint"
   ]
  },
  {
   "cell_type": "markdown",
   "metadata": {},
   "source": [
    "# Names\n",
    "\n",
    "Hopefully your team is at least this good. Obviously you should replace these with your names.\n",
    "\n",
    "- William Wei\n",
    "- Charmie Donasco\n",
    "- Rizq Khateeb\n",
    "- Michael Lai\n",
    "- Siu Wu"
   ]
  },
  {
   "cell_type": "markdown",
   "metadata": {},
   "source": [
    "# Abstract \n",
    "The goal of this project is to classify and differentiate between the chest X-ray images of COVID-19 positive cases, normal lungs, and Lung Opacity (Non-COVID lung infection). The data consists of images of X-rays and lung masks and will be measured by cutting the three classes down to 3600 images each (3600 Positive COVID-19, 3600 Normal Lungs, 3600 Lung Opacity (Non-COVID lung infection)) and compare each and see if there is more than a 33% match rate. We will be using CNN (convolutional neural network) to process the pixel data in the image to pick up on the differences in the images of the X-rays."
   ]
  },
  {
   "cell_type": "markdown",
   "metadata": {},
   "source": [
    "# Background\n",
    "\n",
    "In recent years, image classification becomes more and more popular as they can extract characteristics from the images and then identify the correct the categories those images should belong to<a name=\"DluQweng\"></a>[<sup>[1]</sup>](#DluQwengnote). This is beneficial and effective in the way that it saves a lot of time and effort when trying to categorize daramatic amount of images manually. There are lot of paper going over and reviewing the major techniques in the field of image classification and discussing over how to improve the performance. In related to our project, we have looked at papers which introduces the deep learning paradigm of Convolutional neual network(CNN). The paper discusses in detail about the development of CNN and its main features. The paper also introduces the potential limitations and applications of method of CNN<a name=\"Alzubaidi\"></a>[<sup>[2]</sup>](#Alzubaidinote). We believe that the ability to identify the COVID-affected, normal and ohter lung infection patients based on the chest X-ray images would be meaningful and helpful since the pandemic still goes on."
   ]
  },
  {
   "cell_type": "markdown",
   "metadata": {},
   "source": [
    "# Problem Statement\n",
    "\n",
    "The main problem this project will solve is diagnosis of lung conditions in patients. The x-ray images have key features that highlight the likely condition and indicate the diagnosis the patient should receive, but our project will use convolutional neural networks and train a model to ultimately classify whether the patient is healthy, afflicted with pneumonia, or has COVID automatically."
   ]
  },
  {
   "cell_type": "markdown",
   "metadata": {},
   "source": [
    "# Data\n",
    "\n",
    "Link to the dataset: \n",
    "https://www.kaggle.com/tawsifurrahman/covid19-radiography-database\n",
    "\n",
    "This data set contains 19820 imagnes of COVID-19 chest x-rays and lung masks each photo a png image with the diamentions of 299 by 299 pixels. The chest x-rays are images which showcase a scan of the entire chest area and the lung mask is an additional black and white mask used to mask out everything in the chest x-rays besides the lungs. This is important as we want our model to primary focus on the lung portion of the X-ray and not to take in excess factors when classifying. Image of the X-ray and lung mask can be seen below.\n",
    "\n",
    "![COVID-1h.png](attachment:1e9c9204-d598-4e23-90c2-d6eee58ccdfa.png)\n",
    "\n",
    "![COVID-1.png](attachment:c26e601b-d3dd-47c5-ac8a-d3f8e54fc443.png)\n",
    "\n",
    "\n",
    "It is important moving forward with this dataset that we are able to isolate the lungs using the lung mask because as we can see, the data from the lungs is only a fraction of full image so seperating the image will not only vastly improve accuracy but also improve computation speed by reducing load. Some additional shifting of the dataset will we be doing is reducing the size of the dataset so there is 3000 images for each of the classes for the training set and 600 each for the testing data set. We do this so there is a base line 33%, if we do random selection, we can compare our model against.\n"
   ]
  },
  {
   "cell_type": "markdown",
   "metadata": {},
   "source": [
    "# Proposed Solution\n",
    "\n",
    "Our proposed solution would be implementing the algorithm of CNN to the dataset and then classify the images of lungs in the correct categories accordingly using the features extracted from the data. We will use the lung mask to crop out the images from the x-ray images. By cutting out the images we can reduce the amount of noise and allow the model to only focus on the areas which may contain elements of COVID-19. The model we are using is a Convolutional Neural Network, the CNN takes in an input image and uses weights and biases as well as various aspects in order to differentiate between each other. In the CNN the model there are multiple layers including the input, output, and hidden layer. The hidden layer consists of multiple convolutional layers, pooling layers, fully connected layers, and normalization layers. Some libraries we will use but are not limited to are the python libraries of keras and tensorflow. We want to use tensorflow in order to take advantage of its ability to utalize create complex neural networks and to run them effectively with its implementation of cuda cores. "
   ]
  },
  {
   "cell_type": "markdown",
   "metadata": {},
   "source": [
    "# Evaluation Metrics\n",
    "\n",
    "By reducing our dataset into classes with equal quantities each we can assume a baseline 33% accuracy if we were to just use random assignment for our image dataset. This means that if our model is able to accurately distinguish the dataset above this 33% baseline we can assume that our model is somewhat successful. Other models that which use the same dataset have been found to have an accuracy over 95% and although we do not believe we will be able to reach such numbers, this does set us an upperbound for what we can expect to be achievable for the dataset. We will mark each image in the test dataset as correct if it able to correctly classify the image with its label and wrong if it fails to do so.\n",
    "\n",
    "We will also look at the confusion matrix of the model to see how does our classification go. The confusion matrix can be used to evaluate the accuracy of the model. As to our project, the confusion matrix will have predicted classes of the lung images and the actual classes of the lung images. Therefore, the 2x2 matrix will have true positive, true negative, false positive and false negative as the rows and columns. We will calculate precision and recall to help us evaluating our model."
   ]
  },
  {
   "cell_type": "markdown",
   "metadata": {},
   "source": [
    "# Preliminary results\n",
    "\n",
    "NEW SECTION!\n",
    "\n",
    "Please show any preliminary results you have managed to obtain.\n",
    "\n",
    "Examples would include:\n",
    "- Analyzing the suitability of a dataset or alogrithm for prediction/solving your problem \n",
    "- Performing feature selection or hand-designing features from the raw data. Describe the features available/created and/or show the code for selection/creation\n",
    "- Showing the performance of a base model/hyper-parameter setting.  Solve the task with one \"default\" algorithm and characterize the performance level of that base model.\n",
    "- Learning curves or validation curves for a particular model\n",
    "- Tables/graphs showing the performance of different models/hyper-parameters\n",
    "\n"
   ]
  },
  {
   "cell_type": "markdown",
   "metadata": {},
   "source": [
    "# Ethics & Privacy"
   ]
  },
  {
   "cell_type": "markdown",
   "metadata": {},
   "source": [
    "This project is- at its base- an image classification project. While this specific project would help the efficiency in the medical field in terms of predictive diagnosis in respiratory illnesses and further research, the idea of image recognition in broader terms can be a topic that faces a lot of scrutiny. One of the main issues with image recognition are deepfakes. Deepfakes are essentially videos or images that takes a preexisting image/video and replaces the person in it with someone else's image/video. This can lead to a lot of misleading content as it can pass content that never existed as something genuine. For example, inserting a random person's face onto an incriminating video and passing it off as evidence for a crime and such. \n",
    "\n",
    "Anther issue that our project may come across specifically, is the privacy of the patients whose X-ray images come from. A patient's privacy is still extended in this case therefore, any electronic medical information must be secure. Theoretically, if this project is to be remade with original an dataset, the first step is to receive the patient's explicit consent in sharing the images and minor detail that is would be considered important to the research. Next is to remove names or anything that will be able to determine a patient's identity from the dataset."
   ]
  },
  {
   "cell_type": "markdown",
   "metadata": {},
   "source": [
    "# Team Expectations "
   ]
  },
  {
   "cell_type": "markdown",
   "metadata": {},
   "source": [
    "* Each group member shows up to meetings and stay updated on project progress\n",
    "* Getting the assigned work done before next meeting so that project can be progressed\n",
    "* Ask for help from each other or TAs/professor if assistance is needed\n",
    "* Split up the work to make things easier to handle and such that everyone contributes to the project\n",
    "* Respect each other\n",
    "* Respond to the group messages"
   ]
  },
  {
   "cell_type": "markdown",
   "metadata": {},
   "source": [
    "# Project Timeline Proposal"
   ]
  },
  {
   "cell_type": "markdown",
   "metadata": {},
   "source": [
    "| Meeting Date  | Meeting Time| Completed Before Meeting  | Discuss at Meeting |\n",
    "|---|---|---|---|\n",
    "| 4/28  |  9 PM |  Brainstorm topics/questions (all)  | Discuss and decide on final project topic; discuss hypothesis; begin background research; PEER REVIEWS (DUE 4/29) | \n",
    "| 5/7  |  8 PM |  Do background research on topic; Dataset search and wrangling | Check ups: EDA, data processed, algorithms, etc. | \n",
    "| 5/12  | 9 PM  | Prep for checkpoint (as discussed in previous meeting)| More discuss over data wrangling and EDA |\n",
    "| 5/18  | 8 PM  | EDA and data wrangling | Figure out the preliminary results section of the checkpoint |\n",
    "| 5/19  | 8 PM  | Continue previous meeting | Continue and finish up the checkpoint  |\n",
    "| 5/25  | 8 PM  | Model selection| Models results and comparison   |\n",
    "| 5/28  | 8 PM  | Analysis | Analysis; Discuss/edit project code; Complete project |\n",
    "| 6/04  | 8 PM  | Complete analysis; Draft results/conclusion/discussion (Carlos)| Discuss/edit full project |\n",
    "| 6/08  | Before 11:59 PM  | NA | Turn in Final Project  |"
   ]
  },
  {
   "cell_type": "markdown",
   "metadata": {},
   "source": [
    "# Footnotes\n",
    "<a name=\"DluQwengnote\"></a>1.[^](#DluQweng): D.Lu, Q.Weng Review Article a Survey of Image- Tandfonline.com. https://www.tandfonline.com/doi/pdf/10.1080/01431160600746456. <br> \n",
    "<a name=\"Alzubaidinote\"></a>2.[^](#Alzubaidi): Alzubaidi, L., Zhang, J., Humaidi, A.J. et al. Review of deep learning: concepts, CNN architectures, challenges, applications, future directions. J Big Data 8, 53 (2021). https://doi.org/10.1186/s40537-021-00444-8<br>"
   ]
  },
  {
   "cell_type": "code",
   "execution_count": null,
   "metadata": {},
   "outputs": [],
   "source": []
  }
 ],
 "metadata": {
  "kernelspec": {
   "display_name": "Python 3",
   "language": "python",
   "name": "python3"
  },
  "language_info": {
   "codemirror_mode": {
    "name": "ipython",
    "version": 3
   },
   "file_extension": ".py",
   "mimetype": "text/x-python",
   "name": "python",
   "nbconvert_exporter": "python",
   "pygments_lexer": "ipython3",
   "version": "3.8.8"
  }
 },
 "nbformat": 4,
 "nbformat_minor": 2
}
